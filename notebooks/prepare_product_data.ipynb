{
 "cells": [
  {
   "cell_type": "code",
   "execution_count": 1,
   "id": "4a794587-10e8-4f5f-981c-a501cae9df43",
   "metadata": {
    "tags": []
   },
   "outputs": [],
   "source": [
    "from collections import Counter\n",
    "import os\n",
    "\n",
    "import numpy as np\n",
    "import pandas as pd"
   ]
  },
  {
   "cell_type": "code",
   "execution_count": 2,
   "id": "4fb8ef3d-c482-4293-a417-cfeef7079faf",
   "metadata": {},
   "outputs": [],
   "source": [
    "RAW_DATA_PATH = '../data/raw/' # raw csv files\n",
    "INTERIM_DATA_PATH = '../data/interim/' # cached dataframes"
   ]
  },
  {
   "cell_type": "code",
   "execution_count": 3,
   "id": "2dea45bd-facf-40df-92fd-018251576341",
   "metadata": {
    "tags": []
   },
   "outputs": [],
   "source": [
    "def pad_1d(array, max_len):\n",
    "    array = array[:max_len]\n",
    "    length = len(array)\n",
    "    padded = array + [0]*(max_len - len(array))\n",
    "    return padded, length\n",
    "\n",
    "\n",
    "def make_word_idx(product_names):\n",
    "    words = [word for name in product_names for word in name.split()]\n",
    "    word_counts = Counter(words)\n",
    "\n",
    "    max_id = 1\n",
    "    word_idx = {}\n",
    "    for word, count in word_counts.items():\n",
    "        if count < 10:\n",
    "            word_idx[word] = 0\n",
    "        else:\n",
    "            word_idx[word] = max_id\n",
    "            max_id += 1\n",
    "\n",
    "    return word_idx\n",
    "\n",
    "\n",
    "def encode_text(text, word_idx):\n",
    "    return ' '.join([str(word_idx[i]) for i in text.split()]) if text else '0'"
   ]
  },
  {
   "cell_type": "code",
   "execution_count": null,
   "id": "171c182b-45f6-4e61-a87f-2a648a49725a",
   "metadata": {
    "tags": []
   },
   "outputs": [],
   "source": [
    "product_data = pd.read_csv('../data/processed/product_data.csv')\n",
    "product_data['product_name'] = product_data['product_name'].map(lambda x: x.lower())\n",
    "\n",
    "product_df = pd.read_csv('../data/raw/products.csv')\n",
    "product_df['product_name'] = product_df['product_name'].map(lambda x: x.lower())\n",
    "\n",
    "word_idx = make_word_idx(product_df['product_name'].tolist())\n",
    "product_data['product_name_encoded'] = product_data['product_name'].map(lambda x: encode_text(x, word_idx))\n",
    "\n",
    "num_rows = len(product_data)\n",
    "\n",
    "user_id = np.zeros(shape=[num_rows], dtype=np.int32)\n",
    "product_id = np.zeros(shape=[num_rows], dtype=np.int32)\n",
    "aisle_id = np.zeros(shape=[num_rows], dtype=np.int16)\n",
    "department_id = np.zeros(shape=[num_rows], dtype=np.int8)\n",
    "eval_set = np.zeros(shape=[num_rows], dtype='S5')\n",
    "label = np.zeros(shape=[num_rows], dtype=np.int8)\n",
    "\n",
    "is_ordered_history = np.zeros(shape=[num_rows, 100], dtype=np.int8)\n",
    "index_in_order_history = np.zeros(shape=[num_rows, 100], dtype=np.int8)\n",
    "order_dow_history = np.zeros(shape=[num_rows, 100], dtype=np.int8)\n",
    "order_hour_history = np.zeros(shape=[num_rows, 100], dtype=np.int8)\n",
    "days_since_prior_order_history = np.zeros(shape=[num_rows, 100], dtype=np.int8)\n",
    "order_size_history = np.zeros(shape=[num_rows, 100], dtype=np.int8)\n",
    "reorder_size_history = np.zeros(shape=[num_rows, 100], dtype=np.int8)\n",
    "order_number_history = np.zeros(shape=[num_rows, 100], dtype=np.int8)\n",
    "product_name = np.zeros(shape=[num_rows, 30], dtype=np.int32)\n",
    "product_name_length = np.zeros(shape=[num_rows], dtype=np.int8)\n",
    "history_length = np.zeros(shape=[num_rows], dtype=np.int8)\n",
    "\n",
    "for i, row in product_data.iterrows():\n",
    "    if i % 10000 == 0:\n",
    "        print(i, num_rows)\n",
    "\n",
    "    user_id[i] = row['user_id']\n",
    "    product_id[i] = row['product_id']\n",
    "    aisle_id[i] = row['aisle_id']\n",
    "    department_id[i] = row['department_id']\n",
    "    eval_set[i] = row['eval_set']\n",
    "    label[i] = row['label']\n",
    "\n",
    "    is_ordered_history[i, :], history_length[i] = pad_1d(list(map(int, row['is_ordered_history'].split())), 100)\n",
    "    index_in_order_history[i, :], _ = pad_1d(list(map(int, row['index_in_order_history'].split())), 100)\n",
    "    order_dow_history[i, :], _ = pad_1d(list(map(int, row['order_dow_history'].split())), 100)\n",
    "    order_hour_history[i, :], _ = pad_1d(list(map(int, row['order_hour_history'].split())), 100)\n",
    "    days_since_prior_order_history[i, :], _ = pad_1d(list(map(int, row['days_since_prior_order_history'].split())), 100)\n",
    "    order_size_history[i, :], _ = pad_1d(list(map(int, row['order_size_history'].split())), 100)\n",
    "    reorder_size_history[i, :], _ = pad_1d(list(map(int, row['reorder_size_history'].split())), 100)\n",
    "    order_number_history[i, :], _ = pad_1d(list(map(int, row['order_number_history'].split())), 100)\n",
    "    product_name[i, :], product_name_length[i] = pad_1d(list(map(int, row['product_name_encoded'].split())), 30)\n",
    "\n",
    "if not os.path.isdir('../data/interim'):\n",
    "    os.makedirs('../data/interim')\n",
    "\n",
    "np.save('../data/interim/user_id.npy', user_id)\n",
    "np.save('../data/interim/product_id.npy', product_id)\n",
    "np.save('../data/interim/aisle_id.npy', aisle_id)\n",
    "np.save('../data/interim/department_id.npy', department_id)\n",
    "np.save('../data/interim/eval_set.npy', eval_set)\n",
    "np.save('../data/interim/label.npy', label)\n",
    "\n",
    "np.save('../data/interim/is_ordered_history.npy', is_ordered_history)\n",
    "np.save('../data/interim/index_in_order_history.npy', index_in_order_history)\n",
    "np.save('../data/interim/order_dow_history.npy', order_dow_history)\n",
    "np.save('../data/interim/order_hour_history.npy', order_hour_history)\n",
    "np.save('../data/interim/days_since_prior_order_history.npy', days_since_prior_order_history)\n",
    "np.save('../data/interim/order_size_history.npy', order_size_history)\n",
    "np.save('../data/interim/reorder_size_history.npy', reorder_size_history)\n",
    "np.save('../data/interim/order_number_history.npy', order_number_history)\n",
    "np.save('../data/interim/product_name.npy', product_name)\n",
    "np.save('../data/interim/product_name_length.npy', product_name_length)\n",
    "np.save('../data/interim/history_length.npy', history_length)"
   ]
  }
 ],
 "metadata": {
  "kernelspec": {
   "display_name": "Python 3 (ipykernel)",
   "language": "python",
   "name": "python3"
  },
  "language_info": {
   "codemirror_mode": {
    "name": "ipython",
    "version": 3
   },
   "file_extension": ".py",
   "mimetype": "text/x-python",
   "name": "python",
   "nbconvert_exporter": "python",
   "pygments_lexer": "ipython3",
   "version": "3.11.4"
  }
 },
 "nbformat": 4,
 "nbformat_minor": 5
}
